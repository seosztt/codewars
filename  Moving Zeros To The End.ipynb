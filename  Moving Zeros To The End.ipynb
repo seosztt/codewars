{
 "cells": [
  {
   "cell_type": "markdown",
   "id": "2dda4c73",
   "metadata": {},
   "source": [
    "# Moving Zeros To The End\n",
    "> Write an algorithm that takes an array and moves all of the zeros to the end, preserving the order of the other elements.\n",
    "\n",
    "* move_zeros([1, 0, 1, 2, 0, 1, 3]"
   ]
  },
  {
   "cell_type": "code",
   "execution_count": null,
   "id": "65ed15af",
   "metadata": {},
   "outputs": [],
   "source": [
    "# My Solution\n",
    "def move_zeros(array):\n",
    "    n=[]\n",
    "    z=[]\n",
    "    for i in array:\n",
    "        if i==0:\n",
    "            z.append(i)\n",
    "        else:\n",
    "            n.append(i)\n",
    "    return n+z"
   ]
  },
  {
   "cell_type": "code",
   "execution_count": 19,
   "id": "55641151",
   "metadata": {},
   "outputs": [],
   "source": [
    "# Best solution\n",
    "def move_zeros(arr):\n",
    "    l = [i for i in arr if isinstance(i, bool) or i!=0]\n",
    "    return l+[0]*(len(arr)-len(l))"
   ]
  }
 ],
 "metadata": {
  "kernelspec": {
   "display_name": "Python 3",
   "language": "python",
   "name": "python3"
  },
  "language_info": {
   "codemirror_mode": {
    "name": "ipython",
    "version": 3
   },
   "file_extension": ".py",
   "mimetype": "text/x-python",
   "name": "python",
   "nbconvert_exporter": "python",
   "pygments_lexer": "ipython3",
   "version": "3.8.8"
  }
 },
 "nbformat": 4,
 "nbformat_minor": 5
}
