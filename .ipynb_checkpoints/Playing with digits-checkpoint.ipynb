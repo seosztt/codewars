{
 "cells": [
  {
   "cell_type": "markdown",
   "id": "d30c7087",
   "metadata": {},
   "source": [
    "# Playing with digits\n",
    "\n",
    "## Some numbers have funny properties. For example:\n",
    "\n",
    "* 89 --> 8¹ + 9² = 89 * 1\n",
    "\n",
    "* 695 --> 6² + 9³ + 5⁴= 1390 = 695 * 2\n",
    "\n",
    "* 46288 --> 4³ + 6⁴+ 2⁵ + 8⁶ + 8⁷ = 2360688 = 46288 * 51\n",
    "\n",
    ">Given a positive integer n written as abcd... (a, b, c, d... being digits) and a positive integer p\n",
    "\n",
    "* we want to find a positive integer k, if it exists, such as the sum of the digits of n taken to the successive powers of p is equal to k * n.\n",
    "\n",
    "In other words:\n",
    "\n",
    "> Is there an integer k such as : (a ^ p + b ^ (p+1) + c ^(p+2) + d ^ (p+3) + ...) = n * k\n",
    "\n",
    "If it is the case we will return k, if not return -1.\n",
    "\n",
    "Note: n and p will always be given as strictly positive integers.\n",
    "\n",
    "* dig_pow(89, 1) should return 1 since 8¹ + 9² = 89 = 89 * 1\n",
    "* dig_pow(92, 1) should return -1 since there is no k such as 9¹ + 2² * equals 92 * k\n",
    "* dig_pow(695, 2) should return 2 since 6² + 9³ + 5⁴= 1390 = 695 * 2\n",
    "* dig_pow(46288, 3) should return 51 since 4³ + 6⁴+ 2⁵ + 8⁶ + 8⁷ = 2360688 = 46288 * 51"
   ]
  },
  {
   "cell_type": "code",
   "execution_count": 1,
   "id": "38de9010",
   "metadata": {},
   "outputs": [],
   "source": [
    "# My solution\n",
    "def dig_pow(n, p):\n",
    "    l=[]\n",
    "    for i in range(len(str(n))):\n",
    "        l.append(int(str(n)[i])**(p+i))\n",
    "    if sum(l)%n == 0:\n",
    "        return sum(l)/n\n",
    "    else:\n",
    "        return -1"
   ]
  },
  {
   "cell_type": "code",
   "execution_count": null,
   "id": "0f1a1e73",
   "metadata": {},
   "outputs": [],
   "source": [
    "# best solution\n",
    "def dig_pow(n, p):\n",
    "    s = 0\n",
    "    for i,c in enumerate(str(n)):\n",
    "        s += pow(int(c),p+i)\n",
    "    return s/n if s%n==0 else -1\n",
    "\n",
    "# enumertate() : interable 자료형의 (index, value)를 저장.\n",
    "# pow(a,b) : a**b"
   ]
  }
 ],
 "metadata": {
  "kernelspec": {
   "display_name": "Python 3",
   "language": "python",
   "name": "python3"
  },
  "language_info": {
   "codemirror_mode": {
    "name": "ipython",
    "version": 3
   },
   "file_extension": ".py",
   "mimetype": "text/x-python",
   "name": "python",
   "nbconvert_exporter": "python",
   "pygments_lexer": "ipython3",
   "version": "3.8.8"
  }
 },
 "nbformat": 4,
 "nbformat_minor": 5
}
