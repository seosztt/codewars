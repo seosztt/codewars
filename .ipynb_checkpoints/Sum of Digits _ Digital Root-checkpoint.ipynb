{
 "cells": [
  {
   "cell_type": "markdown",
   "id": "b54e6503",
   "metadata": {},
   "source": [
    "# Sum of Digits _ Digital Root\n",
    "\n",
    "* Digital root is the recursive sum of all the digits in a number.\n",
    "* Given n, take the sum of the digits of n. If that value has more than one digit, continue reducing in this way until a single-digit number is produced. The input will be a non-negative integer."
   ]
  },
  {
   "cell_type": "code",
   "execution_count": null,
   "id": "7878253c",
   "metadata": {},
   "outputs": [],
   "source": [
    "# 나의 답\n",
    "def digital_root(n):\n",
    "    while n>9:\n",
    "        str_n = str(n)\n",
    "        str_Digit = []\n",
    "        Digit=[]\n",
    "        for i in range(len(str(n))):\n",
    "            str_Digit.append(str_n[i])\n",
    "        for num in str_Digit:\n",
    "            Digit.append(int(num))\n",
    "        n = sum(Digit)\n",
    "    if n<=9:\n",
    "        return n"
   ]
  },
  {
   "cell_type": "code",
   "execution_count": 13,
   "id": "f32b5db6",
   "metadata": {},
   "outputs": [],
   "source": [
    "# 베스트 답안\n",
    "def digital_root(n):\n",
    "    return n if n < 10 else digital_root(sum(map(int,str(n))))"
   ]
  },
  {
   "cell_type": "code",
   "execution_count": 20,
   "id": "f46629b8",
   "metadata": {},
   "outputs": [],
   "source": [
    "def digital_root(n):\n",
    "    return n%9 or n and 9"
   ]
  }
 ],
 "metadata": {
  "kernelspec": {
   "display_name": "Python 3",
   "language": "python",
   "name": "python3"
  },
  "language_info": {
   "codemirror_mode": {
    "name": "ipython",
    "version": 3
   },
   "file_extension": ".py",
   "mimetype": "text/x-python",
   "name": "python",
   "nbconvert_exporter": "python",
   "pygments_lexer": "ipython3",
   "version": "3.8.8"
  }
 },
 "nbformat": 4,
 "nbformat_minor": 5
}
