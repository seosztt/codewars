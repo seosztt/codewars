{
 "cells": [
  {
   "cell_type": "markdown",
   "id": "05febaf6",
   "metadata": {},
   "source": [
    "# MutiPly\n",
    "\n",
    "* This code does not execute properly. Try to figure out why."
   ]
  },
  {
   "cell_type": "code",
   "execution_count": 2,
   "id": "20ee43d0",
   "metadata": {},
   "outputs": [],
   "source": [
    "# My solution\n",
    "def multiply(a, b):\n",
    "    z = a * b\n",
    "    return z"
   ]
  },
  {
   "cell_type": "code",
   "execution_count": 3,
   "id": "296e7ed4",
   "metadata": {},
   "outputs": [
    {
     "data": {
      "text/plain": [
       "15"
      ]
     },
     "execution_count": 3,
     "metadata": {},
     "output_type": "execute_result"
    }
   ],
   "source": [
    "multiply(3,5)"
   ]
  },
  {
   "cell_type": "code",
   "execution_count": null,
   "id": "ffff70ed",
   "metadata": {},
   "outputs": [],
   "source": [
    "# Best solution\n",
    "def multiply(a, b):\n",
    "    return a * b"
   ]
  }
 ],
 "metadata": {
  "kernelspec": {
   "display_name": "Python 3",
   "language": "python",
   "name": "python3"
  },
  "language_info": {
   "codemirror_mode": {
    "name": "ipython",
    "version": 3
   },
   "file_extension": ".py",
   "mimetype": "text/x-python",
   "name": "python",
   "nbconvert_exporter": "python",
   "pygments_lexer": "ipython3",
   "version": "3.8.8"
  }
 },
 "nbformat": 4,
 "nbformat_minor": 5
}
