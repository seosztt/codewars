{
 "cells": [
  {
   "cell_type": "markdown",
   "id": "db9a49a2",
   "metadata": {},
   "source": [
    "# Categorize New Member\n",
    "\n",
    "* The Western Suburbs Croquet Club has two categories of membership, Senior and Open. They would like your help with an application form that will tell prospective members which category they will be placed.\n",
    "\n",
    "* To be a senior, a member must be at least 55 years old and have a handicap greater than 7. In this croquet club, handicaps range from -2 to +26; the better the player the lower the handicap.\n",
    "\n",
    "## Input\n",
    "* Input will consist of a list of lists containing two items each. Each list contains information for a single potential member. Information consists of an integer for the person's age and an integer for the person's handicap.\n",
    "\n",
    "* Note for F#: The input will be of (int list list) which is a List '<'List'>'\n",
    "\n",
    "### Example Input\n",
    "[[18, 20],[45, 2],[61, 12],[37, 6],[21, 21],[78, 9]]\n",
    "\n",
    "\n",
    "## Output\n",
    "* Output will consist of a list of string values (in Haskell: Open or Senior) stating whether the respective member is to be placed in the senior or open category.\n",
    "\n",
    "### Example Output\n",
    "[\"Open\", \"Open\", \"Senior\", \"Open\", \"Open\", \"Senior\"]"
   ]
  },
  {
   "cell_type": "code",
   "execution_count": null,
   "id": "91dd313d",
   "metadata": {},
   "outputs": [],
   "source": [
    "# My solution\n",
    "\n",
    "def open_or_senior(data):\n",
    "    output=[]\n",
    "    for i in range(len(data)):\n",
    "        if data[i][0]>=55 and data[i][1]>7:\n",
    "            output.append('Senior')\n",
    "        else:\n",
    "            output.append('Open')\n",
    "    return output"
   ]
  },
  {
   "cell_type": "code",
   "execution_count": null,
   "id": "bf6f823e",
   "metadata": {},
   "outputs": [],
   "source": [
    "# Best solution\n",
    "\n",
    "def openOrSenior(data):\n",
    "    res = []\n",
    "    for i in data:\n",
    "        if i[0] >= 55 and i[1] > 7:\n",
    "            res.append(\"Senior\")\n",
    "        else:\n",
    "            res.append(\"Open\")\n",
    "    return res"
   ]
  },
  {
   "cell_type": "code",
   "execution_count": null,
   "id": "c1aa921f",
   "metadata": {},
   "outputs": [],
   "source": [
    "def openOrSenior(members):\n",
    "    return [\"Senior\" if m[0]>54 and m[1]>7 else \"Open\" for m in members]"
   ]
  }
 ],
 "metadata": {
  "kernelspec": {
   "display_name": "Python 3",
   "language": "python",
   "name": "python3"
  },
  "language_info": {
   "codemirror_mode": {
    "name": "ipython",
    "version": 3
   },
   "file_extension": ".py",
   "mimetype": "text/x-python",
   "name": "python",
   "nbconvert_exporter": "python",
   "pygments_lexer": "ipython3",
   "version": "3.8.8"
  }
 },
 "nbformat": 4,
 "nbformat_minor": 5
}
