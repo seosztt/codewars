{
 "cells": [
  {
   "cell_type": "markdown",
   "id": "7f24e833",
   "metadata": {},
   "source": [
    "# Valid Parentheses\n",
    ">Write a function that takes a string of parentheses, and determines if the order of the parentheses is valid. The function should return true if the string is valid, and false if it's invalid.\n",
    "\n",
    "### Examples\n",
    "- \"()\"              =>  true\n",
    "- \")(()))\"          =>  false\n",
    "- \"(\"               =>  false\n",
    "- \"(())((()())())\"  =>  true\n",
    "\n",
    "### Constraints\n",
    "`0 <= input.length <= 100`\n",
    "\n",
    ">Along with opening (() and closing ()) parenthesis, input may contain any valid ASCII characters. Furthermore, the input string may be empty and/or not contain any parentheses at all. Do not treat other forms of brackets as parentheses (e.g. [], {}, <>)."
   ]
  },
  {
   "cell_type": "code",
   "execution_count": null,
   "id": "414565df",
   "metadata": {},
   "outputs": [],
   "source": [
    "# My solution\n",
    "def valid_parentheses(string):\n",
    "    if string=='':\n",
    "        return 1\n",
    "    p=[]\n",
    "    for i in string:\n",
    "        if (i=='(') or (i==')'):\n",
    "            p.append(i)\n",
    "    p_str=''.join(p)\n",
    "    for i in range(50):\n",
    "        p_str=p_str.replace('()','')\n",
    "    if len(p_str)==0:\n",
    "        return 1\n",
    "    else:\n",
    "        return 0"
   ]
  },
  {
   "cell_type": "code",
   "execution_count": null,
   "id": "4ac92ee8",
   "metadata": {},
   "outputs": [],
   "source": [
    "# Best Solution\n",
    "def valid_parentheses(string):\n",
    "    cnt = 0\n",
    "    for char in string:\n",
    "        if char == '(': cnt += 1\n",
    "        if char == ')': cnt -= 1\n",
    "        if cnt < 0: return False\n",
    "    return True if cnt == 0 else False\n",
    "\n",
    "# if문의 갈래를 계산해서 코딩."
   ]
  }
 ],
 "metadata": {
  "kernelspec": {
   "display_name": "Python 3",
   "language": "python",
   "name": "python3"
  },
  "language_info": {
   "codemirror_mode": {
    "name": "ipython",
    "version": 3
   },
   "file_extension": ".py",
   "mimetype": "text/x-python",
   "name": "python",
   "nbconvert_exporter": "python",
   "pygments_lexer": "ipython3",
   "version": "3.8.8"
  }
 },
 "nbformat": 4,
 "nbformat_minor": 5
}
