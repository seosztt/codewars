{
 "cells": [
  {
   "cell_type": "markdown",
   "id": "8149f63d",
   "metadata": {},
   "source": [
    "# Next bigger number with the same digits\n",
    ">Create a function that takes a positive integer and returns the next bigger number that can be formed by rearranging its digits. For example:\n",
    "\n",
    "- 12 ==> 21\n",
    "- 513 ==> 531\n",
    "- 2017 ==> 2071\n",
    "- nextBigger(num: 12)   // returns 21\n",
    "- nextBigger(num: 513)  // returns 531\n",
    "- nextBigger(num: 2017) // returns 2071\n",
    ">If the digits can't be rearranged to form a bigger number, return -1 (or nil in Swift):\n",
    "\n",
    "- 9 ==> -1\n",
    "- 111 ==> -1\n",
    "- 531 ==> -1\n",
    "- nextBigger(num: 9)   // returns nil\n",
    "- nextBigger(num: 111) // returns nil\n",
    "- nextBigger(num: 531) // returns nil\n"
   ]
  },
  {
   "cell_type": "code",
   "execution_count": 21,
   "id": "00c8a833",
   "metadata": {},
   "outputs": [],
   "source": [
    "# My solution\n",
    "def next_bigger(n):\n",
    "    l=list(str(n))      \n",
    "    for i in range(len(l)-1):\n",
    "        if int(l[-i-2])<int(l[-i-1]):\n",
    "            t=l[-i-2]\n",
    "            s=sorted(l[-i-2:])\n",
    "            for j in s:\n",
    "                if j>t:\n",
    "                    s.remove(j)\n",
    "                    s.insert(0,j)\n",
    "                    l[-i-2:]=s\n",
    "                    return int(''.join(l))\n",
    "    return -1"
   ]
  },
  {
   "cell_type": "code",
   "execution_count": 18,
   "id": "51958210",
   "metadata": {},
   "outputs": [],
   "source": [
    "# Best Solution\n",
    "def next_bigger(n):\n",
    "    s = list(str(n))\n",
    "    for i in range(len(s)-2,-1,-1):\n",
    "        if s[i] < s[i+1]:\n",
    "            t = s[i:]\n",
    "            m = min(filter(lambda x: x>t[0], t))\n",
    "            t.remove(m)\n",
    "            t.sort()\n",
    "            s[i:] = [m] + t\n",
    "            return int(\"\".join(s))\n",
    "    return -1"
   ]
  }
 ],
 "metadata": {
  "kernelspec": {
   "display_name": "Python 3",
   "language": "python",
   "name": "python3"
  },
  "language_info": {
   "codemirror_mode": {
    "name": "ipython",
    "version": 3
   },
   "file_extension": ".py",
   "mimetype": "text/x-python",
   "name": "python",
   "nbconvert_exporter": "python",
   "pygments_lexer": "ipython3",
   "version": "3.8.8"
  }
 },
 "nbformat": 4,
 "nbformat_minor": 5
}
