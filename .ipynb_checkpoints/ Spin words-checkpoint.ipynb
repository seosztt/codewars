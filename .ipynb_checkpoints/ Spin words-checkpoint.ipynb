{
 "cells": [
  {
   "cell_type": "markdown",
   "id": "0b0d258d",
   "metadata": {},
   "source": [
    "# Stop gninnipS My sdroW!\n",
    "> Write a function that takes in a string of one or more words, and returns the same string, but with all five or more letter words reversed (like the name of this kata).\n",
    "\n",
    "> Strings passed in will consist of only letters and spaces.\n",
    "Spaces will be included only when more than one word is present.\n",
    "\n",
    "## Examples:\n",
    "\n",
    "- spinWords(\"Hey fellow warriors\") => \"Hey wollef sroirraw\" \n",
    "- spinWords(\"This is a test\") => \"This is a test\" \n",
    "- spinWords(\"This is another test\") => \"This is rehtona test\""
   ]
  },
  {
   "cell_type": "code",
   "execution_count": null,
   "id": "9976eac3",
   "metadata": {},
   "outputs": [],
   "source": [
    "# My solution\n",
    "def spin(word):\n",
    "    temp=[]\n",
    "    for i in range(len(word)):\n",
    "        temp.append(word[len(word)-1-i])\n",
    "    return ''.join(temp)\n",
    "    \n",
    "def spin_words(sentence):\n",
    "    list_sen=sentence.split()\n",
    "    list_spin=[]\n",
    "    for word in list_sen:\n",
    "        if len(word)>=5:\n",
    "            list_spin.append(spin(word))\n",
    "        else :\n",
    "            list_spin.append(word)\n",
    "    return ' '.join(list_spin)"
   ]
  },
  {
   "cell_type": "code",
   "execution_count": 1,
   "id": "8a80bc7b",
   "metadata": {},
   "outputs": [],
   "source": [
    "# best solution\n",
    "def spin_words(sentence):\n",
    "    return \" \".join([x[::-1] if len(x) >= 5 else x for x in sentence.split(\" \")])"
   ]
  },
  {
   "cell_type": "code",
   "execution_count": 2,
   "id": "14e1bae0",
   "metadata": {},
   "outputs": [],
   "source": [
    "def spin_words(sentence):\n",
    "    words = [word for word in sentence.split(\" \")]\n",
    "    words = [word if len(word) < 5 else word[::-1] for word in words]\n",
    "    return \" \".join(words)"
   ]
  },
  {
   "cell_type": "markdown",
   "id": "c167d29e",
   "metadata": {},
   "source": [
    "* arr[a:b:c] : a index 에서 b index까지 c간격으로 배열 "
   ]
  }
 ],
 "metadata": {
  "kernelspec": {
   "display_name": "Python 3",
   "language": "python",
   "name": "python3"
  },
  "language_info": {
   "codemirror_mode": {
    "name": "ipython",
    "version": 3
   },
   "file_extension": ".py",
   "mimetype": "text/x-python",
   "name": "python",
   "nbconvert_exporter": "python",
   "pygments_lexer": "ipython3",
   "version": "3.8.8"
  }
 },
 "nbformat": 4,
 "nbformat_minor": 5
}
