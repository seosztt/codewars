{
 "cells": [
  {
   "cell_type": "markdown",
   "id": "ff4a805f",
   "metadata": {},
   "source": [
    "# Who likes it\n",
    "\n",
    ">You probably know the \"like\" system from Facebook and other pages. People can \"like\" blog posts, pictures or other items. We want to create the text that should be displayed next to such an item.\n",
    "\n",
    ">Implement a function likes :: [String] -> String, which must take in input array, containing the names of people who like an item. It must return the display text as shown in the examples:\n",
    "\n",
    "`likes([]) # must be \"no one likes this\"\n",
    "likes([\"Peter\"]) # must be \"Peter likes this\"\n",
    "likes([\"Jacob\", \"Alex\"]) # must be \"Jacob and Alex like this\"\n",
    "likes([\"Max\", \"John\", \"Mark\"]) # must be \"Max, John and Mark like this\"\n",
    "likes([\"Alex\", \"Jacob\", \"Mark\", \"Max\"]) # must be \"Alex, Jacob and 2 others like this\"`"
   ]
  },
  {
   "cell_type": "code",
   "execution_count": 1,
   "id": "4d799f53",
   "metadata": {},
   "outputs": [],
   "source": [
    "# my solution\n",
    "def likes(names):\n",
    "    if len(names) == 0:\n",
    "        return str('no one likes this')\n",
    "    elif len(names) == 1:\n",
    "        return str(names[0]+' likes this')\n",
    "    elif len(names) == 2:\n",
    "        return str(names[0]+' and '+names[1]+' like this')\n",
    "    elif len(names) == 3:\n",
    "        return str(names[0]+', '+names[1]+ ' and '+names[2]+ ' like this')\n",
    "    else:\n",
    "        return str(names[0]+', '+ names[1]+ ' and '+ str(len(names) - 2)+ ' others like this')"
   ]
  },
  {
   "cell_type": "code",
   "execution_count": null,
   "id": "46ec9cf0",
   "metadata": {},
   "outputs": [],
   "source": [
    "# best solution\n",
    "def likes(names):\n",
    "    n = len(names)\n",
    "    return {\n",
    "        0: 'no one likes this',\n",
    "        1: '{} likes this', \n",
    "        2: '{} and {} like this', \n",
    "        3: '{}, {} and {} like this', \n",
    "        4: '{}, {} and {others} others like this'\n",
    "    }[min(4, n)].format(*names[:3], others=n-2)"
   ]
  }
 ],
 "metadata": {
  "kernelspec": {
   "display_name": "Python 3",
   "language": "python",
   "name": "python3"
  },
  "language_info": {
   "codemirror_mode": {
    "name": "ipython",
    "version": 3
   },
   "file_extension": ".py",
   "mimetype": "text/x-python",
   "name": "python",
   "nbconvert_exporter": "python",
   "pygments_lexer": "ipython3",
   "version": "3.8.8"
  }
 },
 "nbformat": 4,
 "nbformat_minor": 5
}
