{
 "cells": [
  {
   "cell_type": "code",
   "execution_count": 1,
   "id": "6c72c1b8",
   "metadata": {},
   "outputs": [],
   "source": [
    "te=[1,2,3,4,5]"
   ]
  },
  {
   "cell_type": "code",
   "execution_count": 2,
   "id": "b8c9ff91",
   "metadata": {},
   "outputs": [
    {
     "data": {
      "text/plain": [
       "[1, 2, 3, 4, 5]"
      ]
     },
     "execution_count": 2,
     "metadata": {},
     "output_type": "execute_result"
    }
   ],
   "source": [
    "te"
   ]
  },
  {
   "cell_type": "code",
   "execution_count": 3,
   "id": "de85f86c",
   "metadata": {},
   "outputs": [],
   "source": [
    "del te[1]"
   ]
  },
  {
   "cell_type": "code",
   "execution_count": 4,
   "id": "f4cc8453",
   "metadata": {},
   "outputs": [
    {
     "data": {
      "text/plain": [
       "[1, 3, 4, 5]"
      ]
     },
     "execution_count": 4,
     "metadata": {},
     "output_type": "execute_result"
    }
   ],
   "source": [
    "te"
   ]
  },
  {
   "cell_type": "code",
   "execution_count": 4,
   "id": "388cea0c",
   "metadata": {},
   "outputs": [],
   "source": [
    "def alpha_num(al):\n",
    "    if al=='a' or al=='A':\n",
    "        al=1\n",
    "    elif al=='b' or al=='B':\n",
    "        al=2\n",
    "    elif al=='c' or al=='C':\n",
    "        al=3\n",
    "    elif al=='d' or al=='D':\n",
    "        al=4\n",
    "    elif al=='e' or al=='E':\n",
    "        al=5\n",
    "    elif al=='f' or al=='F':\n",
    "        al=6\n",
    "    elif al=='g' or al=='G':\n",
    "        al=7\n",
    "    elif al=='h' or al=='H':\n",
    "        al=8\n",
    "    elif al=='i' or al=='I':\n",
    "        al=9\n",
    "    elif al=='j' or al=='J':\n",
    "        al=10\n",
    "    elif al=='k' or al=='K':\n",
    "        al=11\n",
    "    elif al=='l' or al=='L':\n",
    "        al=12\n",
    "    elif al=='m' or al=='M':\n",
    "        al=13\n",
    "    elif al=='n' or al=='N':\n",
    "        al=14\n",
    "    elif al=='o' or al=='O':\n",
    "        al=15\n",
    "    elif al=='p' or al=='P':\n",
    "        al=16\n",
    "    elif al=='q' or al=='Q':\n",
    "        al=17\n",
    "    elif al=='r' or al=='R':\n",
    "        al=18\n",
    "    elif al=='s' or al=='S':\n",
    "        al=19\n",
    "    elif al=='t' or al=='T':\n",
    "        al=20\n",
    "    elif al=='u' or al=='U':\n",
    "        al=21\n",
    "    elif al=='v' or al=='V':\n",
    "        al=22\n",
    "    elif al=='w' or al=='W':\n",
    "        al=23\n",
    "    elif al=='x' or al=='X':\n",
    "        al=24\n",
    "    elif al=='y' or al=='Y':\n",
    "        al=25\n",
    "    elif al=='z' or al=='Z':\n",
    "        al=26\n",
    "    else:\n",
    "        al=None\n",
    "    return al"
   ]
  },
  {
   "cell_type": "code",
   "execution_count": 5,
   "id": "c7163b79",
   "metadata": {},
   "outputs": [
    {
     "data": {
      "text/plain": [
       "1"
      ]
     },
     "execution_count": 5,
     "metadata": {},
     "output_type": "execute_result"
    }
   ],
   "source": [
    "alpha_num('a')"
   ]
  },
  {
   "cell_type": "code",
   "execution_count": 3,
   "id": "71e61434",
   "metadata": {},
   "outputs": [
    {
     "data": {
      "text/plain": [
       "'a'"
      ]
     },
     "execution_count": 3,
     "metadata": {},
     "output_type": "execute_result"
    }
   ],
   "source": [
    "'a'"
   ]
  },
  {
   "cell_type": "code",
   "execution_count": 6,
   "id": "3ff2afd8",
   "metadata": {},
   "outputs": [
    {
     "name": "stdout",
     "output_type": "stream",
     "text": [
      "w\n",
      "g\n",
      "o\n",
      "h\n",
      "w\n",
      "e\n",
      "o\n",
      "i\n",
      "g\n",
      "h\n",
      "e\n",
      "w\n",
      "o\n",
      "i\n",
      "g\n"
     ]
    }
   ],
   "source": [
    "list_a=[]\n",
    "for i in 'wgohweoighewoig':\n",
    "    list_a.append()"
   ]
  },
  {
   "cell_type": "code",
   "execution_count": 10,
   "id": "9a927632",
   "metadata": {},
   "outputs": [
    {
     "data": {
      "text/plain": [
       "99"
      ]
     },
     "execution_count": 10,
     "metadata": {},
     "output_type": "execute_result"
    }
   ],
   "source": [
    "ord('c')"
   ]
  },
  {
   "cell_type": "code",
   "execution_count": 11,
   "id": "2919a733",
   "metadata": {},
   "outputs": [
    {
     "data": {
      "text/plain": [
       "'sdrow'"
      ]
     },
     "execution_count": 11,
     "metadata": {},
     "output_type": "execute_result"
    }
   ],
   "source": [
    "'words'[::-1]"
   ]
  },
  {
   "cell_type": "code",
   "execution_count": 16,
   "id": "9733c926",
   "metadata": {},
   "outputs": [
    {
     "data": {
      "text/plain": [
       "'sdrow'"
      ]
     },
     "execution_count": 16,
     "metadata": {},
     "output_type": "execute_result"
    }
   ],
   "source": [
    "a='words'\n",
    "a[::-1]"
   ]
  },
  {
   "cell_type": "code",
   "execution_count": 21,
   "id": "1ab26b6a",
   "metadata": {},
   "outputs": [
    {
     "data": {
      "text/plain": [
       "True"
      ]
     },
     "execution_count": 21,
     "metadata": {},
     "output_type": "execute_result"
    }
   ],
   "source": [
    "{1,2,3}=={3,2,1}"
   ]
  },
  {
   "cell_type": "code",
   "execution_count": 22,
   "id": "6d129d8a",
   "metadata": {},
   "outputs": [],
   "source": [
    "arr=[1,2,3,4,5]"
   ]
  },
  {
   "cell_type": "code",
   "execution_count": 26,
   "id": "d645e86b",
   "metadata": {},
   "outputs": [
    {
     "name": "stdout",
     "output_type": "stream",
     "text": [
      "True\n"
     ]
    }
   ],
   "source": [
    "print(1 in arr)"
   ]
  },
  {
   "cell_type": "code",
   "execution_count": 158,
   "id": "fd449912",
   "metadata": {},
   "outputs": [],
   "source": [
    "def remove(arr):\n",
    "    for i in range(len(arr)-1):\n",
    "        temp=[arr[i], arr[i+1]]\n",
    "        if  temp == ['NORTH', 'SOUTH'] or temp==['SOUTH','NORTH'] or temp == [\"WEST\",'EAST'] or temp ==['EAST','WEST']:\n",
    "            del arr[i], arr[i]\n",
    "            break\n",
    "    return arr\n",
    "\n",
    "\n",
    "def dirReduc(arr):\n",
    "    while arr == remove(arr):\n",
    "        arr=remove(arr)"
   ]
  },
  {
   "cell_type": "code",
   "execution_count": 28,
   "id": "ea6bd5e6",
   "metadata": {},
   "outputs": [
    {
     "data": {
      "text/plain": [
       "['SOUTH', 'EAST', 'WEST', 'NORTH', 'WEST']"
      ]
     },
     "execution_count": 28,
     "metadata": {},
     "output_type": "execute_result"
    }
   ],
   "source": [
    "remove([\"NORTH\", \"SOUTH\", \"SOUTH\", \"EAST\", \"WEST\", \"NORTH\", \"WEST\"])"
   ]
  },
  {
   "cell_type": "code",
   "execution_count": 159,
   "id": "dccf5b8e",
   "metadata": {},
   "outputs": [],
   "source": [
    "a = [\"NORTH\", \"SOUTH\", \"SOUTH\", \"EAST\", \"WEST\", \"NORTH\", \"WEST\"]"
   ]
  },
  {
   "cell_type": "code",
   "execution_count": 99,
   "id": "3dedcad4",
   "metadata": {
    "scrolled": true
   },
   "outputs": [
    {
     "name": "stdout",
     "output_type": "stream",
     "text": [
      "['SOUTH', 'EAST']\n",
      "['EAST', 'WEST']\n",
      "['WEST', 'NORTH']\n",
      "['NORTH', 'WEST']\n"
     ]
    }
   ],
   "source": [
    "for i in range(len(a)-1):\n",
    "        print([a[i], a[i+1]])"
   ]
  },
  {
   "cell_type": "code",
   "execution_count": 133,
   "id": "e054c866",
   "metadata": {},
   "outputs": [],
   "source": [
    "for i in range(len(temp_a)-1):\n",
    "    temp=[temp_a[i], temp_a[i+1]]\n",
    "    if  temp == ['NORTH', 'SOUTH'] or temp==['SOUTH','NORTH'] or temp == [\"WEST\",'EAST'] or temp ==['EAST','WEST']:\n",
    "        del temp_a[i], temp_a[i+1]\n",
    "        break"
   ]
  },
  {
   "cell_type": "code",
   "execution_count": 130,
   "id": "c4508bd0",
   "metadata": {},
   "outputs": [],
   "source": [
    "temp_a=['SOUTH', 'EAST', 'WEST', 'NORTH', 'WEST']"
   ]
  },
  {
   "cell_type": "code",
   "execution_count": 127,
   "id": "4a110451",
   "metadata": {},
   "outputs": [
    {
     "data": {
      "text/plain": [
       "5"
      ]
     },
     "execution_count": 127,
     "metadata": {},
     "output_type": "execute_result"
    }
   ],
   "source": [
    "len(temp_a)"
   ]
  },
  {
   "cell_type": "code",
   "execution_count": 157,
   "id": "8fd07113",
   "metadata": {
    "scrolled": true
   },
   "outputs": [
    {
     "data": {
      "text/plain": [
       "['WEST']"
      ]
     },
     "execution_count": 157,
     "metadata": {},
     "output_type": "execute_result"
    }
   ],
   "source": [
    "remove(a)"
   ]
  },
  {
   "cell_type": "code",
   "execution_count": 134,
   "id": "1855e4b9",
   "metadata": {
    "scrolled": true
   },
   "outputs": [
    {
     "data": {
      "text/plain": [
       "['SOUTH', 'WEST', 'WEST']"
      ]
     },
     "execution_count": 134,
     "metadata": {},
     "output_type": "execute_result"
    }
   ],
   "source": [
    "temp_a"
   ]
  },
  {
   "cell_type": "code",
   "execution_count": null,
   "id": "c248d08c",
   "metadata": {},
   "outputs": [],
   "source": [
    "dirReduc(a)"
   ]
  },
  {
   "cell_type": "code",
   "execution_count": null,
   "id": "391c2dd3",
   "metadata": {},
   "outputs": [],
   "source": []
  }
 ],
 "metadata": {
  "kernelspec": {
   "display_name": "Python 3",
   "language": "python",
   "name": "python3"
  },
  "language_info": {
   "codemirror_mode": {
    "name": "ipython",
    "version": 3
   },
   "file_extension": ".py",
   "mimetype": "text/x-python",
   "name": "python",
   "nbconvert_exporter": "python",
   "pygments_lexer": "ipython3",
   "version": "3.8.8"
  }
 },
 "nbformat": 4,
 "nbformat_minor": 5
}
