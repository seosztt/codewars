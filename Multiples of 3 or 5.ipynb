{
 "cells": [
  {
   "cell_type": "markdown",
   "id": "802cd478",
   "metadata": {},
   "source": [
    "# Multiples of 3 or 5\n",
    "\n",
    "* If we list all the natural numbers below 10 that are multiples of 3 or 5, we get 3, 5, 6 and 9. The sum of these multiples is 23. Finish the solution so that it returns the sum of all the multiples of 3 or 5 below the number passed in.\n",
    "* Note: If the number is a multiple of both 3 and 5, only count it once. Also, if a number is negative, return 0(for languages that do have them)"
   ]
  },
  {
   "cell_type": "code",
   "execution_count": null,
   "id": "d202fc66",
   "metadata": {},
   "outputs": [],
   "source": [
    "# My Solution\n",
    "def solution(number):\n",
    "    list_num=[]\n",
    "    for i in range(number):\n",
    "        if i*3<number:\n",
    "            list_num.append(i*3)\n",
    "    for j in range(number):\n",
    "        if j*5<number:\n",
    "            list_num.append(j*5)\n",
    "    list_num=list(set(list_num))\n",
    "    return sum(list_num)"
   ]
  },
  {
   "cell_type": "code",
   "execution_count": null,
   "id": "2eadd9b8",
   "metadata": {},
   "outputs": [],
   "source": [
    "# Best solution\n",
    "def solution(number):\n",
    "    return sum(x for x in range(number) if x % 3 == 0 or x % 5 == 0)"
   ]
  }
 ],
 "metadata": {
  "kernelspec": {
   "display_name": "Python 3",
   "language": "python",
   "name": "python3"
  },
  "language_info": {
   "codemirror_mode": {
    "name": "ipython",
    "version": 3
   },
   "file_extension": ".py",
   "mimetype": "text/x-python",
   "name": "python",
   "nbconvert_exporter": "python",
   "pygments_lexer": "ipython3",
   "version": "3.8.8"
  }
 },
 "nbformat": 4,
 "nbformat_minor": 5
}
