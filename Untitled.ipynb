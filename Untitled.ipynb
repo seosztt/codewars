{
 "cells": [
  {
   "cell_type": "code",
   "execution_count": 16,
   "id": "06e917ef",
   "metadata": {},
   "outputs": [],
   "source": [
    "def format_duration(seconds):\n",
    "    s=seconds%60\n",
    "    minutes=seconds//60\n",
    "    m=minutes%60\n",
    "    hours=minutes//60\n",
    "    h=24%hours\n",
    "    days=hours//24\n",
    "    d=365%days\n",
    "    y=days//365\n",
    "    print('{0}년{1}일{2}시간{3}분{4}초'.format(y,d,h,m,s))"
   ]
  },
  {
   "cell_type": "code",
   "execution_count": 22,
   "id": "bb0d20e7",
   "metadata": {},
   "outputs": [
    {
     "name": "stdout",
     "output_type": "stream",
     "text": [
      "95년365일24시간20분0초\n"
     ]
    }
   ],
   "source": [
    "format_duration(3000000000)"
   ]
  },
  {
   "cell_type": "code",
   "execution_count": 28,
   "id": "320b94d4",
   "metadata": {},
   "outputs": [],
   "source": [
    "l=[]\n",
    "for i in range(4,0,-2):\n",
    "    l.append(i)"
   ]
  },
  {
   "cell_type": "code",
   "execution_count": 29,
   "id": "999524ae",
   "metadata": {},
   "outputs": [
    {
     "data": {
      "text/plain": [
       "[4, 2]"
      ]
     },
     "execution_count": 29,
     "metadata": {},
     "output_type": "execute_result"
    }
   ],
   "source": [
    "l"
   ]
  },
  {
   "cell_type": "code",
   "execution_count": 30,
   "id": "ddea28cd",
   "metadata": {},
   "outputs": [
    {
     "data": {
      "text/plain": [
       "1.0"
      ]
     },
     "execution_count": 30,
     "metadata": {},
     "output_type": "execute_result"
    }
   ],
   "source": [
    "(5-3)/2"
   ]
  },
  {
   "cell_type": "code",
   "execution_count": 31,
   "id": "1e6ac7a1",
   "metadata": {},
   "outputs": [],
   "source": [
    "l=[[]]"
   ]
  },
  {
   "cell_type": "code",
   "execution_count": 33,
   "id": "3f4c3cf9",
   "metadata": {},
   "outputs": [
    {
     "ename": "IndexError",
     "evalue": "list index out of range",
     "output_type": "error",
     "traceback": [
      "\u001b[1;31m---------------------------------------------------------------------------\u001b[0m",
      "\u001b[1;31mIndexError\u001b[0m                                Traceback (most recent call last)",
      "\u001b[1;32m<ipython-input-33-12088d209996>\u001b[0m in \u001b[0;36m<module>\u001b[1;34m\u001b[0m\n\u001b[1;32m----> 1\u001b[1;33m \u001b[0mlen\u001b[0m\u001b[1;33m(\u001b[0m\u001b[0ml\u001b[0m\u001b[1;33m[\u001b[0m\u001b[1;36m1\u001b[0m\u001b[1;33m]\u001b[0m\u001b[1;33m)\u001b[0m\u001b[1;33m\u001b[0m\u001b[1;33m\u001b[0m\u001b[0m\n\u001b[0m",
      "\u001b[1;31mIndexError\u001b[0m: list index out of range"
     ]
    }
   ],
   "source": [
    "len(l[1])"
   ]
  },
  {
   "cell_type": "code",
   "execution_count": 37,
   "id": "af08500a",
   "metadata": {},
   "outputs": [],
   "source": [
    "def snail(snail_map):\n",
    "    l=[]\n",
    "    if snail_map==[[]]:\n",
    "        return l\n",
    "    else:\n",
    "        n=len(snail_map)\n",
    "        for a in range(n,0,-2):\n",
    "            for i in range(a):\n",
    "                l.append(snail_map[int((n-a)/2)][int((n-a)/2)+i])\n",
    "            for j in range(a-1):\n",
    "                l.append(snail_map[int((n-a)/2)+j+1][-1-int((n-a)/2)])\n",
    "            for k in range(a-1):\n",
    "                l.append(snail_map[-1-int((n-a)/2)][-2-k-int((n-a)/2)])\n",
    "            for t in range(a-2):\n",
    "                l.append(snail_map[-int((n-a)/2)-2-t][int((n-a)/2)])\n",
    "    return l"
   ]
  },
  {
   "cell_type": "code",
   "execution_count": 38,
   "id": "3f190f5d",
   "metadata": {},
   "outputs": [],
   "source": [
    "l=[[1, 2, 3, 4, 5],\n",
    "[16, 17, 18, 19, 6], \n",
    "[15, 24, 25, 20, 7],\n",
    "[14, 23, 22, 21, 8], \n",
    "[13, 12, 11, 10, 9]]"
   ]
  },
  {
   "cell_type": "code",
   "execution_count": 40,
   "id": "1a23e1df",
   "metadata": {
    "scrolled": true
   },
   "outputs": [
    {
     "data": {
      "text/plain": [
       "[1,\n",
       " 2,\n",
       " 3,\n",
       " 4,\n",
       " 5,\n",
       " 6,\n",
       " 7,\n",
       " 8,\n",
       " 9,\n",
       " 10,\n",
       " 11,\n",
       " 12,\n",
       " 13,\n",
       " 14,\n",
       " 15,\n",
       " 16,\n",
       " 17,\n",
       " 18,\n",
       " 19,\n",
       " 20,\n",
       " 21,\n",
       " 22,\n",
       " 23,\n",
       " 12,\n",
       " 25]"
      ]
     },
     "execution_count": 40,
     "metadata": {},
     "output_type": "execute_result"
    }
   ],
   "source": [
    "snail(l)"
   ]
  },
  {
   "cell_type": "code",
   "execution_count": 70,
   "id": "81c74d65",
   "metadata": {},
   "outputs": [],
   "source": [
    "l=[[1,2,3],[4,5,6],[7,8,9]]"
   ]
  },
  {
   "cell_type": "code",
   "execution_count": 54,
   "id": "b5b6d579",
   "metadata": {},
   "outputs": [],
   "source": [
    "def snail(array):\n",
    "    out = []\n",
    "    while len(array):\n",
    "        out += array.pop(0)\n",
    "        array = list(zip(*array))[::-1] # Rotate\n",
    "    return out"
   ]
  },
  {
   "cell_type": "code",
   "execution_count": 55,
   "id": "baaf5d91",
   "metadata": {},
   "outputs": [
    {
     "data": {
      "text/plain": [
       "[1, 2, 3, 6, 9, 8, 7, 4, 5]"
      ]
     },
     "execution_count": 55,
     "metadata": {},
     "output_type": "execute_result"
    }
   ],
   "source": [
    "snail(l)"
   ]
  },
  {
   "cell_type": "code",
   "execution_count": 90,
   "id": "8ad8a2ae",
   "metadata": {},
   "outputs": [],
   "source": [
    "l = list(zip(*l))[::-1]"
   ]
  },
  {
   "cell_type": "code",
   "execution_count": 91,
   "id": "19612d03",
   "metadata": {},
   "outputs": [
    {
     "data": {
      "text/plain": [
       "[(5,)]"
      ]
     },
     "execution_count": 91,
     "metadata": {},
     "output_type": "execute_result"
    }
   ],
   "source": [
    "l"
   ]
  },
  {
   "cell_type": "code",
   "execution_count": 65,
   "id": "7173cdbe",
   "metadata": {},
   "outputs": [],
   "source": [
    "out=[]"
   ]
  },
  {
   "cell_type": "code",
   "execution_count": 92,
   "id": "747c189d",
   "metadata": {},
   "outputs": [],
   "source": [
    "out += l.pop(0)"
   ]
  },
  {
   "cell_type": "code",
   "execution_count": 93,
   "id": "c8ece124",
   "metadata": {},
   "outputs": [
    {
     "data": {
      "text/plain": [
       "[1, 2, 3, 1, 2, 3, 6, 9, 8, 7, 4, 5]"
      ]
     },
     "execution_count": 93,
     "metadata": {},
     "output_type": "execute_result"
    }
   ],
   "source": [
    "out"
   ]
  },
  {
   "cell_type": "code",
   "execution_count": null,
   "id": "1fa8d298",
   "metadata": {},
   "outputs": [],
   "source": []
  }
 ],
 "metadata": {
  "kernelspec": {
   "display_name": "Python 3",
   "language": "python",
   "name": "python3"
  },
  "language_info": {
   "codemirror_mode": {
    "name": "ipython",
    "version": 3
   },
   "file_extension": ".py",
   "mimetype": "text/x-python",
   "name": "python",
   "nbconvert_exporter": "python",
   "pygments_lexer": "ipython3",
   "version": "3.8.8"
  }
 },
 "nbformat": 4,
 "nbformat_minor": 5
}
