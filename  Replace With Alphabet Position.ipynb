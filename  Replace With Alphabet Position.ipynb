{
 "cells": [
  {
   "cell_type": "markdown",
   "id": "0f4de046",
   "metadata": {},
   "source": [
    "#  Replace With Alphabet Position\n",
    "\n",
    "> In this kata you are required to, given a string, replace every letter with its position in the alphabet.\n",
    "> If anything in the text isn't a letter, ignore it and don't return it.\n",
    "\n",
    "* \"a\" = 1, \"b\" = 2, etc.\n",
    "\n",
    "## Example\n",
    "`alphabet_position(\"The sunset sets at twelve o' clock.\")`\n",
    "> Should return \"20 8 5 19 21 14 19 5 20 19 5 20 19 1 20 20 23 5 12 22 5 15 3 12 15 3 11\" (as a string)"
   ]
  },
  {
   "cell_type": "code",
   "execution_count": null,
   "id": "491f9e99",
   "metadata": {},
   "outputs": [],
   "source": [
    "# My solution\n",
    "def alpha_num(al):\n",
    "    if al=='a' or al=='A':\n",
    "        al=1\n",
    "    elif al=='b' or al=='B':\n",
    "        al=2\n",
    "    elif al=='c' or al=='C':\n",
    "        al=3\n",
    "    elif al=='d' or al=='D':\n",
    "        al=4\n",
    "    elif al=='e' or al=='E':\n",
    "        al=5\n",
    "    elif al=='f' or al=='F':\n",
    "        al=6\n",
    "    elif al=='g' or al=='G':\n",
    "        al=7\n",
    "    elif al=='h' or al=='H':\n",
    "        al=8\n",
    "    elif al=='i' or al=='I':\n",
    "        al=9\n",
    "    elif al=='j' or al=='J':\n",
    "        al=10\n",
    "    elif al=='k' or al=='K':\n",
    "        al=11\n",
    "    elif al=='l' or al=='L':\n",
    "        al=12\n",
    "    elif al=='m' or al=='M':\n",
    "        al=13\n",
    "    elif al=='n' or al=='N':\n",
    "        al=14\n",
    "    elif al=='o' or al=='O':\n",
    "        al=15\n",
    "    elif al=='p' or al=='P':\n",
    "        al=16\n",
    "    elif al=='q' or al=='Q':\n",
    "        al=17\n",
    "    elif al=='r' or al=='R':\n",
    "        al=18\n",
    "    elif al=='s' or al=='S':\n",
    "        al=19\n",
    "    elif al=='t' or al=='T':\n",
    "        al=20\n",
    "    elif al=='u' or al=='U':\n",
    "        al=21\n",
    "    elif al=='v' or al=='V':\n",
    "        al=22\n",
    "    elif al=='w' or al=='W':\n",
    "        al=23\n",
    "    elif al=='x' or al=='X':\n",
    "        al=24\n",
    "    elif al=='y' or al=='Y':\n",
    "        al=25\n",
    "    elif al=='z' or al=='Z':\n",
    "        al=26\n",
    "    else:\n",
    "        al=0\n",
    "    return al\n",
    "\n",
    "def alphabet_position(text):\n",
    "    num_list=[]\n",
    "    for i in text:\n",
    "        num_list.append(str(alpha_num(i)))\n",
    "    for j in range(num_list.count('0')):\n",
    "        num_list.remove('0')\n",
    "    return \" \".join(num_list)"
   ]
  },
  {
   "cell_type": "code",
   "execution_count": 1,
   "id": "8d76ba74",
   "metadata": {},
   "outputs": [],
   "source": [
    "# Best solution\n",
    "def alphabet_position(s):\n",
    "    return \" \".join(str(ord(c)-ord(\"a\")+1) for c in s.lower() if c.isalpha())"
   ]
  },
  {
   "cell_type": "markdown",
   "id": "c682453e",
   "metadata": {},
   "source": [
    "* ord() : 문자 인자에 대하여 아스키코드 값을 반환\n",
    "* chr() : 아스키 코드 값 인자에 대하여 문자를 반환\n",
    "* lower() 메소드로 스트링을 일괄 소문자로 변환하면 대문자까지 두 번 일할 필요가 없음"
   ]
  }
 ],
 "metadata": {
  "kernelspec": {
   "display_name": "Python 3",
   "language": "python",
   "name": "python3"
  },
  "language_info": {
   "codemirror_mode": {
    "name": "ipython",
    "version": 3
   },
   "file_extension": ".py",
   "mimetype": "text/x-python",
   "name": "python",
   "nbconvert_exporter": "python",
   "pygments_lexer": "ipython3",
   "version": "3.8.8"
  }
 },
 "nbformat": 4,
 "nbformat_minor": 5
}
