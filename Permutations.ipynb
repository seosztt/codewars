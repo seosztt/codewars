{
 "cells": [
  {
   "cell_type": "markdown",
   "id": "03fe63fb",
   "metadata": {},
   "source": [
    "# Permutations\n",
    ">In this kata you have to create all permutations of an input string and remove duplicates, if present. This means, you have to shuffle all letters from the input in all possible orders.\n",
    "\n",
    ">Examples:\n",
    "\n",
    "* permutations('a'); # ['a']\n",
    "* permutations('ab'); # ['ab', 'ba']\n",
    "* permutations('aabb'); # ['aabb', 'abab', 'abba', 'baab', 'baba', 'bbaa']\n",
    ">The order of the permutations doesn't matter."
   ]
  },
  {
   "cell_type": "code",
   "execution_count": null,
   "id": "d5785980",
   "metadata": {},
   "outputs": [],
   "source": [
    "# My solution\n",
    "from itertools import permutations as per\n",
    "def permutations(string):\n",
    "    l=list(set(per(string)))\n",
    "    perlist=[]\n",
    "    for i in l:\n",
    "        perlist.append(''.join(i))\n",
    "    return perlist"
   ]
  },
  {
   "cell_type": "code",
   "execution_count": 1,
   "id": "c9d0642d",
   "metadata": {},
   "outputs": [],
   "source": [
    "# Best Solution\n",
    "import itertools\n",
    "\n",
    "def permutations(string):\n",
    "    return list(\"\".join(p) for p in set(itertools.permutations(string)))\n",
    "\n",
    "# permutations 함수의 인자로 문자열을 쓸 수 있다."
   ]
  },
  {
   "cell_type": "code",
   "execution_count": null,
   "id": "67808f12",
   "metadata": {},
   "outputs": [],
   "source": [
    "def permutations(string):\n",
    "    if len(string) == 1: return set(string)\n",
    "    first = string[0]\n",
    "    rest = permutations(string[1:])\n",
    "    result = set()\n",
    "    for i in range(0, len(string)):\n",
    "        for p in rest:\n",
    "        result.add(p[0:i] + first + p[i:])\n",
    "    return result\n",
    "# 모든 자릿수가 모든 툼새에 들어가봐야 한다."
   ]
  }
 ],
 "metadata": {
  "kernelspec": {
   "display_name": "Python 3",
   "language": "python",
   "name": "python3"
  },
  "language_info": {
   "codemirror_mode": {
    "name": "ipython",
    "version": 3
   },
   "file_extension": ".py",
   "mimetype": "text/x-python",
   "name": "python",
   "nbconvert_exporter": "python",
   "pygments_lexer": "ipython3",
   "version": "3.8.8"
  }
 },
 "nbformat": 4,
 "nbformat_minor": 5
}
