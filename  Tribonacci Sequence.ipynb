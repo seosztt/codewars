{
 "cells": [
  {
   "cell_type": "markdown",
   "id": "6fae7117",
   "metadata": {},
   "source": [
    "# Tribonacci Sequence\n",
    ">Well met with Fibonacci bigger brother, AKA Tribonacci.\n",
    "\n",
    ">As the name may already reveal, it works basically like a Fibonacci, but summing the last 3 (instead of 2) numbers of the sequence to generate the next. And, worse part of it, regrettably I won't get to hear non-native Italian speakers trying to pronounce it :(\n",
    "\n",
    ">So, if we are to start our Tribonacci sequence with [1, 1, 1] as a starting input (AKA signature), we have this sequence:\n",
    "\n",
    "* [1, 1 ,1, 3, 5, 9, 17, 31, ...]\n",
    "\n",
    ">But what if we started with [0, 0, 1] as a signature? As starting with [0, 1] instead of [1, 1] basically shifts the common Fibonacci sequence by once place, you may be tempted to think that we would get the same sequence shifted by 2 places, but that is not the case and we would get:\n",
    "\n",
    "* [0, 0, 1, 1, 2, 4, 7, 13, 24, ...]\n",
    "\n",
    ">Well, you may have guessed it by now, but to be clear: you need to create a fibonacci function that given a signature array/list, returns the first n elements - signature included of the so seeded sequence.\n",
    "\n",
    ">Signature will always contain 3 numbers; n will always be a non-negative number; if n == 0, then return an empty array (except in C return NULL) and be ready for anything else which is not clearly specified ;)"
   ]
  },
  {
   "cell_type": "code",
   "execution_count": null,
   "id": "5baf704e",
   "metadata": {},
   "outputs": [],
   "source": [
    "# My Solution\n",
    "def tribonacci(signature, n):\n",
    "    if n<3: # signature[:n]으로 간략하게 표현 가능. 따로 저장은 해야겠지만.\n",
    "        for i in range(3-n):\n",
    "            signature.pop()\n",
    "    else:\n",
    "        for i in range(n-3):\n",
    "            signature.append(signature[i]+signature[i+1]+signature[i+2])\n",
    "            # signature.append(sum(signature[-3:]))과 같음.\n",
    "    return signature"
   ]
  },
  {
   "cell_type": "code",
   "execution_count": null,
   "id": "528ed4d2",
   "metadata": {},
   "outputs": [],
   "source": [
    "# Best Solution\n",
    "def tribonacci(signature, n):\n",
    "    res = signature[:n]\n",
    "    for i in range(n - 3):\n",
    "        res.append(sum(res[-3:]))\n",
    "    return res"
   ]
  }
 ],
 "metadata": {
  "kernelspec": {
   "display_name": "Python 3",
   "language": "python",
   "name": "python3"
  },
  "language_info": {
   "codemirror_mode": {
    "name": "ipython",
    "version": 3
   },
   "file_extension": ".py",
   "mimetype": "text/x-python",
   "name": "python",
   "nbconvert_exporter": "python",
   "pygments_lexer": "ipython3",
   "version": "3.8.8"
  }
 },
 "nbformat": 4,
 "nbformat_minor": 5
}
