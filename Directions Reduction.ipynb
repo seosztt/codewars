{
 "cells": [
  {
   "cell_type": "markdown",
   "id": "8e83bac0",
   "metadata": {},
   "source": [
    "## Directions Reduction\n",
    ">Once upon a time, on a way through the old wild mountainous west,…\n",
    ">… a man was given directions to go from one point to another. The directions were \"NORTH\", \"SOUTH\", \"WEST\", \"EAST\". Clearly \"NORTH\" and \"SOUTH\" are opposite, \"WEST\" and \"EAST\" too.\n",
    "\n",
    ">Going to one direction and coming back the opposite direction right away is a needless effort. Since this is the wild west, with dreadfull weather and not much water, it's important to save yourself some energy, otherwise you might die of thirst!\n",
    "\n",
    ">How I crossed a mountainous desert the smart way.\n",
    ">The directions given to the man are, for example, the following (depending on the language):\n",
    "\n",
    "* [\"NORTH\", \"SOUTH\", \"SOUTH\", \"EAST\", \"WEST\", \"NORTH\", \"WEST\"].\n",
    "or\n",
    "* { \"NORTH\", \"SOUTH\", \"SOUTH\", \"EAST\", \"WEST\", \"NORTH\", \"WEST\" };\n",
    "or\n",
    "* [North, South, South, East, West, North, West]\n",
    ">You can immediatly see that going \"NORTH\" and immediately \"SOUTH\" is not reasonable, better stay to the same place! So the task is to give to the man a simplified version of the plan. A better plan in this case is simply:\n",
    "\n",
    "* [\"WEST\"]\n",
    "or\n",
    "* { \"WEST\" }\n",
    "or\n",
    "* [West]\n",
    "* Other examples:\n",
    ">In [\"NORTH\", \"SOUTH\", \"EAST\", \"WEST\"], the direction \"NORTH\" + \"SOUTH\" is going north and coming back right away.\n",
    "\n",
    ">The path becomes [\"EAST\", \"WEST\"], now \"EAST\" and \"WEST\" annihilate each other, therefore, the final result is [] (nil in Clojure).\n",
    "\n",
    ">In [\"NORTH\", \"EAST\", \"WEST\", \"SOUTH\", \"WEST\", \"WEST\"], \"NORTH\" and \"SOUTH\" are not directly opposite but they become directly opposite after the reduction of \"EAST\" and \"WEST\" so the whole path is reducible to [\"WEST\", \"WEST\"].\n",
    "\n",
    "## Task\n",
    ">Write a function dirReduc which will take an array of strings and returns an array of strings with the needless directions removed (W<->E or S<->N side by side).\n",
    "\n",
    ">The Haskell version takes a list of directions with data Direction = North | East | West | South.\n",
    "The Clojure version returns nil when the path is reduced to nothing.\n",
    "The Rust version takes a slice of enum Direction {North, East, West, South}.\n",
    "See more examples in \"Sample Tests:\"\n",
    "Notes\n",
    "Not all paths can be made simpler. The path [\"NORTH\", \"WEST\", \"SOUTH\", \"EAST\"] is not reducible. \"NORTH\" and \"WEST\", \"WEST\" and \"SOUTH\", \"SOUTH\" and \"EAST\" are not directly opposite of each other and can't become such. Hence the result path is itself : [\"NORTH\", \"WEST\", \"SOUTH\", \"EAST\"].\n",
    "if you want to translate, please ask before translating."
   ]
  },
  {
   "cell_type": "code",
   "execution_count": null,
   "id": "1aac0f9f",
   "metadata": {},
   "outputs": [],
   "source": [
    "# My solution\n",
    "def remove(arr):\n",
    "    for i in range(len(arr)-1):\n",
    "        temp=[arr[i], arr[i+1]]\n",
    "        if  temp == ['NORTH', 'SOUTH'] or temp==['SOUTH','NORTH'] or temp == [\"WEST\",'EAST'] or temp ==['EAST','WEST']:\n",
    "            del arr[i], arr[i]\n",
    "            break\n",
    "    return arr\n",
    "\n",
    "def dirReduc(arr):\n",
    "    temp=[]\n",
    "    for i in range(len(arr)):\n",
    "        temp.append(arr[i])\n",
    "    remove(arr)\n",
    "    while arr!=temp:\n",
    "        dirReduc(arr)\n",
    "        return arr"
   ]
  },
  {
   "cell_type": "code",
   "execution_count": null,
   "id": "f2bd54cf",
   "metadata": {},
   "outputs": [],
   "source": [
    "# best solution\n",
    "opposite = {'NORTH': 'SOUTH', 'EAST': 'WEST', 'SOUTH': 'NORTH', 'WEST': 'EAST'}\n",
    "\n",
    "def dirReduc(plan):\n",
    "    new_plan = []\n",
    "    for d in plan:\n",
    "        if new_plan and new_plan[-1] == opposite[d]:\n",
    "            new_plan.pop()\n",
    "        else:\n",
    "            new_plan.append(d)\n",
    "    return new_plan"
   ]
  },
  {
   "cell_type": "code",
   "execution_count": null,
   "id": "89a84b11",
   "metadata": {},
   "outputs": [],
   "source": []
  }
 ],
 "metadata": {
  "kernelspec": {
   "display_name": "Python 3",
   "language": "python",
   "name": "python3"
  },
  "language_info": {
   "codemirror_mode": {
    "name": "ipython",
    "version": 3
   },
   "file_extension": ".py",
   "mimetype": "text/x-python",
   "name": "python",
   "nbconvert_exporter": "python",
   "pygments_lexer": "ipython3",
   "version": "3.8.8"
  }
 },
 "nbformat": 4,
 "nbformat_minor": 5
}
