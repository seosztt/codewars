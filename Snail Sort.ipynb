{
 "cells": [
  {
   "attachments": {
    "image.png": {
     "image/png": "[encoded data removed]"
    }
   },
   "cell_type": "markdown",
   "id": "109ea860",
   "metadata": {},
   "source": [
    "# Snail Sort\n",
    ">Given an n x n array, return the array elements arranged from outermost elements to the middle element, traveling clockwise.\n",
    "\n",
    "`array = [[1,2,3],\n",
    "         [4,5,6],\n",
    "         [7,8,9]]`\n",
    "`snail(array) #=> [1,2,3,6,9,8,7,4,5]`\n",
    ">For better understanding, please follow the numbers of the next array consecutively:\n",
    "\n",
    "`array = [[1,2,3],\n",
    "         [8,9,4],\n",
    "         [7,6,5]]`\n",
    "`snail(array) #=> [1,2,3,4,5,6,7,8,9]`\n",
    ">This image will illustrate things more clearly:\n",
    "![image.png](attachment:image.png)\n",
    "\n",
    "* NOTE: The idea is not sort the elements from the lowest value to the highest; the idea is to traverse the 2-d array in a clockwise snailshell pattern.\n",
    "\n",
    "* NOTE 2: The 0x0 (empty matrix) is represented as en empty array inside an array [[]]."
   ]
  },
  {
   "cell_type": "code",
   "execution_count": null,
   "id": "351ddf81",
   "metadata": {},
   "outputs": [],
   "source": [
    "# My solution\n",
    "def snail(snail_map):\n",
    "    l=[]\n",
    "    if snail_map==[[]]:\n",
    "        return l\n",
    "    else:\n",
    "        n=len(snail_map)\n",
    "        for a in range(n,0,-2):\n",
    "            for i in range(a):\n",
    "                l.append(snail_map[int((n-a)/2)][int((n-a)/2)+i])\n",
    "            for j in range(a-1):\n",
    "                l.append(snail_map[int((n-a)/2)+j+1][-1-int((n-a)/2)])\n",
    "            for k in range(a-1):\n",
    "                l.append(snail_map[-1-int((n-a)/2)][-2-k-int((n-a)/2)])\n",
    "            for t in range(a-2):\n",
    "                l.append(snail_map[-int((n-a)/2)-2-t][int((n-a)/2)])\n",
    "    return l"
   ]
  },
  {
   "cell_type": "code",
   "execution_count": null,
   "id": "75a77541",
   "metadata": {},
   "outputs": [],
   "source": [
    "# Clever Solution\n",
    "def snail(array):\n",
    "    out = []\n",
    "    while len(array): # len(array)가 0이 될 때까지\n",
    "        out += array.pop(0) # 첫 행 잘래서 out에 붙이기\n",
    "        array = list(zip(*array))[::-1] # 90도 회전\n",
    "    return out\n",
    "\n",
    "## 90도씩 회전하며 첫 행을 깎아 붙여준다."
   ]
  }
 ],
 "metadata": {
  "kernelspec": {
   "display_name": "Python 3",
   "language": "python",
   "name": "python3"
  },
  "language_info": {
   "codemirror_mode": {
    "name": "ipython",
    "version": 3
   },
   "file_extension": ".py",
   "mimetype": "text/x-python",
   "name": "python",
   "nbconvert_exporter": "python",
   "pygments_lexer": "ipython3",
   "version": "3.8.8"
  }
 },
 "nbformat": 4,
 "nbformat_minor": 5
}
