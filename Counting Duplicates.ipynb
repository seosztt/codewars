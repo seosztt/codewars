{
 "cells": [
  {
   "cell_type": "markdown",
   "id": "ede7ad68",
   "metadata": {},
   "source": [
    "# Count the number of Duplicates\n",
    ">Write a function that will return the count of distinct case-insensitive alphabetic characters and numeric digits that occur more than once in the input string. The input string can be assumed to contain only alphabets (both uppercase and lowercase) and numeric digits.\n",
    "\n",
    "## Example\n",
    "- \"abcde\" -> 0 # no characters repeats more than once\n",
    "- \"aabbcde\" -> 2 # 'a' and 'b'\n",
    "- \"aabBcde\" -> 2 # 'a' occurs twice and 'b' twice (`b` and `B`)\n",
    "- \"indivisibility\" -> 1 # 'i' occurs six times\n",
    "- \"Indivisibilities\" -> 2 # 'i' occurs seven times and 's' occurs twice\n",
    "- \"aA11\" -> 2 # 'a' and '1'\n",
    "- \"ABBA\" -> 2 # 'A' and 'B' each occur twice\n"
   ]
  },
  {
   "cell_type": "code",
   "execution_count": 2,
   "id": "b34aeec4",
   "metadata": {},
   "outputs": [],
   "source": [
    "# My Solution\n",
    "def duplicate_count(text):\n",
    "    dupl_list=[]\n",
    "    lower_text=text.lower()\n",
    "    for i in lower_text:\n",
    "        if lower_text.count(i)>=2:\n",
    "            dupl_list.append(i)\n",
    "    return len(set(dupl_list))"
   ]
  },
  {
   "cell_type": "code",
   "execution_count": null,
   "id": "a83fc0ab",
   "metadata": {},
   "outputs": [],
   "source": [
    "# Best solution\n",
    "def duplicate_count(s):\n",
    "    return len([c for c in set(s.lower()) if s.lower().count(c)>1])\n",
    "\n",
    "## i 는 set(text.lower())에서 가져와서 count는 text.lower()에서 하면 된다."
   ]
  }
 ],
 "metadata": {
  "kernelspec": {
   "display_name": "Python 3",
   "language": "python",
   "name": "python3"
  },
  "language_info": {
   "codemirror_mode": {
    "name": "ipython",
    "version": 3
   },
   "file_extension": ".py",
   "mimetype": "text/x-python",
   "name": "python",
   "nbconvert_exporter": "python",
   "pygments_lexer": "ipython3",
   "version": "3.8.8"
  }
 },
 "nbformat": 4,
 "nbformat_minor": 5
}
