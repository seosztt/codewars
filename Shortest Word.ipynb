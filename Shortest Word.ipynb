{
 "cells": [
  {
   "cell_type": "markdown",
   "id": "9b3baf57",
   "metadata": {},
   "source": [
    "# Shortest Word\n",
    "\n",
    "* Simple, given a string of words, return the length of the shortest word(s).\n",
    "\n",
    "* String will never be empty and you do not need to account for different data types."
   ]
  },
  {
   "cell_type": "code",
   "execution_count": null,
   "id": "d07e0c68",
   "metadata": {},
   "outputs": [],
   "source": [
    "# my solution\n",
    "def find_short(s):\n",
    "    words=s.split() # your code here\n",
    "    len_Words=[]\n",
    "    for i in words:\n",
    "        len_Words.append(len(i))\n",
    "    l=min(len_Words)\n",
    "    return l # l: shortest word length"
   ]
  },
  {
   "cell_type": "code",
   "execution_count": 1,
   "id": "29ac6b67",
   "metadata": {},
   "outputs": [],
   "source": [
    "# Best solution\n",
    "def find_short(s):\n",
    "    return min(len(i) for i in s.split())"
   ]
  }
 ],
 "metadata": {
  "kernelspec": {
   "display_name": "Python 3",
   "language": "python",
   "name": "python3"
  },
  "language_info": {
   "codemirror_mode": {
    "name": "ipython",
    "version": 3
   },
   "file_extension": ".py",
   "mimetype": "text/x-python",
   "name": "python",
   "nbconvert_exporter": "python",
   "pygments_lexer": "ipython3",
   "version": "3.8.8"
  }
 },
 "nbformat": 4,
 "nbformat_minor": 5
}
