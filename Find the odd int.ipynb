{
 "cells": [
  {
   "cell_type": "markdown",
   "id": "c82dcac8",
   "metadata": {},
   "source": [
    "# Find the odd int\n",
    "> Given an array of integers, find the one that appears an odd number of times.\n",
    "> There will always be only one integer that appears an odd number of times."
   ]
  },
  {
   "cell_type": "code",
   "execution_count": null,
   "id": "1c0fa552",
   "metadata": {},
   "outputs": [],
   "source": [
    "# my solution\n",
    "def find_it(seq):\n",
    "    for i in seq:\n",
    "        if seq.count(i)%2 != 0:\n",
    "            return i"
   ]
  },
  {
   "cell_type": "code",
   "execution_count": null,
   "id": "2fb194d7",
   "metadata": {},
   "outputs": [],
   "source": [
    "# best solution\n",
    "def find_it(seq):\n",
    "    for i in seq:\n",
    "        if seq.count(i)%2!=0:\n",
    "            return i"
   ]
  }
 ],
 "metadata": {
  "kernelspec": {
   "display_name": "Python 3",
   "language": "python",
   "name": "python3"
  },
  "language_info": {
   "codemirror_mode": {
    "name": "ipython",
    "version": 3
   },
   "file_extension": ".py",
   "mimetype": "text/x-python",
   "name": "python",
   "nbconvert_exporter": "python",
   "pygments_lexer": "ipython3",
   "version": "3.8.8"
  }
 },
 "nbformat": 4,
 "nbformat_minor": 5
}
